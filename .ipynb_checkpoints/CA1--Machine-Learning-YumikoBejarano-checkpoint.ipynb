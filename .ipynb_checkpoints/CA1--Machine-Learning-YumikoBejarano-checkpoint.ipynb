{
 "cells": [
  {
   "cell_type": "markdown",
   "id": "749a6b13-9db2-468d-a8ea-3566e088a062",
   "metadata": {},
   "source": [
    "# <center> CCT College Dublin </center>\n",
    "\n",
    "## <center> Assessment Cover Page</center>\n",
    "\n",
    "\n",
    "<br><br><br>\n",
    "---\n",
    "\n",
    "<span style=\"font-size:larger;\">\n",
    "\n",
    "**Module Title:**&nbsp;&nbsp;&nbsp;Data Preparation\n",
    "\t\n",
    "**Assessment Title:**&nbsp;&nbsp;&nbsp;Machine Learning (10 ETCS)\n",
    "\t\n",
    "**Lecturer Name:**&nbsp;&nbsp;&nbsp;Dr. Muhammad Iqbal\n",
    "\t\n",
    "**Student Full Name:**&nbsp;&nbsp;&nbsp;Yumiko Maria Bejarano Azogue \n",
    "\t\n",
    "**Student Number:**&nbsp;&nbsp;&nbsp;2024144\n",
    "\t\n",
    "**Assessment Due Date:**&nbsp;&nbsp;&nbsp;21st April 2024\n",
    "\t\n",
    "**Date of Submission:**&nbsp;&nbsp;&nbsp;21st April 2024\n",
    "    \n",
    "</span> \n",
    "\n",
    "<br><br><br>\n",
    "\n",
    "---\n",
    "\n",
    "#### Declaration \n",
    "\n",
    "```\n",
    "By submitting this assessment, I confirm that I have read the CCT policy on Academic Misconduct and understand the implications of submitting work that is not my own or does not appropriately reference material taken from a third party or other source. I declare it to be my own work and that all material from third parties has been appropriately referenced. I further confirm that this work has not previously been submitted for assessment by myself or someone else in CCT College Dublin or any other higher education institution.\n",
    "```\n",
    "<br><br><br>\n",
    "\n",
    "--- "
   ]
  },
  {
   "cell_type": "code",
   "execution_count": null,
   "id": "18fdea35-df73-4746-84d6-3e03e29fc68d",
   "metadata": {},
   "outputs": [],
   "source": [
    "# Import all the required libariers "
   ]
  },
  {
   "cell_type": "code",
   "execution_count": 1,
   "id": "c02996e5-ddf6-425e-88e1-b524ca32639e",
   "metadata": {},
   "outputs": [],
   "source": [
    "import pandas as pd\n",
    "import numpy as np\n",
    "import seaborn as sns\n",
    "import matplotlib.pyplot as plt\n",
    "from sklearn.model_selection import train_test_split\n",
    "from sklearn.preprocessing import StandardScaler\n",
    "from sklearn.metrics import confusion_matrix, classification_report, roc_auc_score, roc_curve, f1_score, precision_score, recall_score, accuracy_score\n",
    "from sklearn.tree import DecisionTreeClassifier\n",
    "from sklearn.ensemble import RandomForestClassifier\n",
    "from sklearn.linear_model import LogisticRegression\n",
    "from sklearn.svm import SVC\n",
    "from sklearn.model_selection import cross_val_score\n",
    "\n",
    "# Set the style for seaborn\n",
    "sns.set_style(\"whitegrid\")"
   ]
  },
  {
   "cell_type": "code",
   "execution_count": 2,
   "id": "b15f08ef-5b55-4220-aaa6-3f32d873333f",
   "metadata": {},
   "outputs": [],
   "source": [
    "# Import thi slibrary to suppress the warnings\n",
    "import warnings\n",
    "# The object 'warnings' is used to call the method 'filterwarnings' and ignore the warnings\n",
    "warnings.filterwarnings('ignore')  "
   ]
  },
  {
   "cell_type": "code",
   "execution_count": 3,
   "id": "29f0d1c9-0e6c-4b88-9df2-ee5a338a3fec",
   "metadata": {},
   "outputs": [],
   "source": [
    "# Import the data file\n",
    "data = pd.read_csv('collegePlace.csv')"
   ]
  },
  {
   "cell_type": "markdown",
   "id": "9f3dc1f0-1c81-4c53-8f5f-23a76a86f35b",
   "metadata": {},
   "source": [
    "# The dataset has the following columns:\n",
    "\n",
    "## Feature Descriptions\r\n",
    "\r\n",
    "| Feature            | Description                                                        | Data Type |\r\n",
    "|--------------------|--------------------------------------------------------------------|-----------|\r\n",
    "| Age                | Age At The Time Of Final Year                                      | int64     |\r\n",
    "| Gender             | Gender Of Candidate                                                | object    |\r\n",
    "| Stream             | Engineering Stream That The Candidate Belongs To                   | object    |\r\n",
    "| Internships        | Number Of Internships Undertaken During The Course Of       Stream | int64     |\r\n",
    "| CGPA               | CGPA Till 6th Semester                                             | int64     |\r\n",
    "| Hostel             | Whether Student Lives In College Accommodation                      | int64     |\r\n",
    "| HistoryOfBacklogs  | Whether Student Ever Had Any Backlogs In Any Subjects              | int64     |\r\n",
    "| PlacedOrNot        | Target Variable                                                    | int64     |\r\n",
    "       |\r\n"
   ]
  },
  {
   "cell_type": "code",
   "execution_count": 4,
   "id": "7dd19d7f-1fdb-4a10-b36f-12241f13f603",
   "metadata": {},
   "outputs": [
    {
     "name": "stdout",
     "output_type": "stream",
     "text": [
      "First 5 records of the dataset:\n",
      "   Age  Gender                         Stream  Internships  CGPA  Hostel  \\\n",
      "0   22    Male  Electronics And Communication            1     8       1   \n",
      "1   21  Female               Computer Science            0     7       1   \n",
      "2   22  Female         Information Technology            1     6       0   \n",
      "3   21    Male         Information Technology            0     8       0   \n",
      "4   22    Male                     Mechanical            0     8       1   \n",
      "\n",
      "   HistoryOfBacklogs  PlacedOrNot  \n",
      "0                  1            1  \n",
      "1                  1            1  \n",
      "2                  0            1  \n",
      "3                  1            1  \n",
      "4                  0            1  \n"
     ]
    }
   ],
   "source": [
    "# Display the first 5 records of the dataset\n",
    "print(\"First 5 records of the dataset:\")\n",
    "print(data.head())"
   ]
  },
  {
   "cell_type": "markdown",
   "id": "d51744cd-bbf0-4e5c-a0e0-11a3561fa51d",
   "metadata": {},
   "source": [
    "# Meta information of Dataframe"
   ]
  },
  {
   "cell_type": "code",
   "execution_count": 6,
   "id": "876b6e42-d4eb-4a05-893f-6ac9fc7972f3",
   "metadata": {},
   "outputs": [
    {
     "name": "stdout",
     "output_type": "stream",
     "text": [
      "\n",
      "Information about the dataframe:\n",
      "<class 'pandas.core.frame.DataFrame'>\n",
      "RangeIndex: 2966 entries, 0 to 2965\n",
      "Data columns (total 8 columns):\n",
      " #   Column             Non-Null Count  Dtype \n",
      "---  ------             --------------  ----- \n",
      " 0   Age                2966 non-null   int64 \n",
      " 1   Gender             2966 non-null   object\n",
      " 2   Stream             2966 non-null   object\n",
      " 3   Internships        2966 non-null   int64 \n",
      " 4   CGPA               2966 non-null   int64 \n",
      " 5   Hostel             2966 non-null   int64 \n",
      " 6   HistoryOfBacklogs  2966 non-null   int64 \n",
      " 7   PlacedOrNot        2966 non-null   int64 \n",
      "dtypes: int64(6), object(2)\n",
      "memory usage: 185.5+ KB\n"
     ]
    },
    {
     "data": {
      "text/html": [
       "<div>\n",
       "<style scoped>\n",
       "    .dataframe tbody tr th:only-of-type {\n",
       "        vertical-align: middle;\n",
       "    }\n",
       "\n",
       "    .dataframe tbody tr th {\n",
       "        vertical-align: top;\n",
       "    }\n",
       "\n",
       "    .dataframe thead th {\n",
       "        text-align: right;\n",
       "    }\n",
       "</style>\n",
       "<table border=\"1\" class=\"dataframe\">\n",
       "  <thead>\n",
       "    <tr style=\"text-align: right;\">\n",
       "      <th></th>\n",
       "    </tr>\n",
       "  </thead>\n",
       "  <tbody>\n",
       "  </tbody>\n",
       "</table>\n",
       "</div>"
      ],
      "text/plain": [
       "Empty DataFrame\n",
       "Columns: []\n",
       "Index: []"
      ]
     },
     "execution_count": 6,
     "metadata": {},
     "output_type": "execute_result"
    }
   ],
   "source": [
    "# Information about the dataframe\n",
    "print(\"\\nInformation about the dataframe:\")\n",
    "data_info = data.info()\n",
    "pd.DataFrame(data_info).transpose()"
   ]
  },
  {
   "cell_type": "code",
   "execution_count": 7,
   "id": "80124632-2926-435d-a138-2d9e310e5619",
   "metadata": {},
   "outputs": [
    {
     "data": {
      "text/html": [
       "<div>\n",
       "<style scoped>\n",
       "    .dataframe tbody tr th:only-of-type {\n",
       "        vertical-align: middle;\n",
       "    }\n",
       "\n",
       "    .dataframe tbody tr th {\n",
       "        vertical-align: top;\n",
       "    }\n",
       "\n",
       "    .dataframe thead th {\n",
       "        text-align: right;\n",
       "    }\n",
       "</style>\n",
       "<table border=\"1\" class=\"dataframe\">\n",
       "  <thead>\n",
       "    <tr style=\"text-align: right;\">\n",
       "      <th></th>\n",
       "      <th>Data Types</th>\n",
       "    </tr>\n",
       "  </thead>\n",
       "  <tbody>\n",
       "    <tr>\n",
       "      <th>Age</th>\n",
       "      <td>int64</td>\n",
       "    </tr>\n",
       "    <tr>\n",
       "      <th>Gender</th>\n",
       "      <td>object</td>\n",
       "    </tr>\n",
       "    <tr>\n",
       "      <th>Stream</th>\n",
       "      <td>object</td>\n",
       "    </tr>\n",
       "    <tr>\n",
       "      <th>Internships</th>\n",
       "      <td>int64</td>\n",
       "    </tr>\n",
       "    <tr>\n",
       "      <th>CGPA</th>\n",
       "      <td>int64</td>\n",
       "    </tr>\n",
       "    <tr>\n",
       "      <th>Hostel</th>\n",
       "      <td>int64</td>\n",
       "    </tr>\n",
       "    <tr>\n",
       "      <th>HistoryOfBacklogs</th>\n",
       "      <td>int64</td>\n",
       "    </tr>\n",
       "    <tr>\n",
       "      <th>PlacedOrNot</th>\n",
       "      <td>int64</td>\n",
       "    </tr>\n",
       "  </tbody>\n",
       "</table>\n",
       "</div>"
      ],
      "text/plain": [
       "                  Data Types\n",
       "Age                    int64\n",
       "Gender                object\n",
       "Stream                object\n",
       "Internships            int64\n",
       "CGPA                   int64\n",
       "Hostel                 int64\n",
       "HistoryOfBacklogs      int64\n",
       "PlacedOrNot            int64"
      ]
     },
     "execution_count": 7,
     "metadata": {},
     "output_type": "execute_result"
    }
   ],
   "source": [
    "column_types = pd.DataFrame(data.dtypes, columns=['Data Types'])\n",
    "column_types"
   ]
  },
  {
   "cell_type": "code",
   "execution_count": 8,
   "id": "130c61b9-3c20-42cd-bd39-5d865aa84796",
   "metadata": {},
   "outputs": [
    {
     "name": "stdout",
     "output_type": "stream",
     "text": [
      "\n",
      " Descriptive statistics of the dataframe:\n"
     ]
    },
    {
     "data": {
      "text/html": [
       "<style type=\"text/css\">\n",
       "#T_4b8b6_row0_col1 {\n",
       "  width: 10em;\n",
       "  background: linear-gradient(90deg, #205ff2 100.0%, transparent 100.0%);\n",
       "}\n",
       "#T_4b8b6_row0_col2 {\n",
       "  background-color: #67000d;\n",
       "  color: #f1f1f1;\n",
       "}\n",
       "#T_4b8b6_row0_col5 {\n",
       "  background-color: #b40426;\n",
       "  color: #f1f1f1;\n",
       "}\n",
       "#T_4b8b6_row1_col1 {\n",
       "  width: 10em;\n",
       "  background: linear-gradient(90deg, #205ff2 3.3%, transparent 3.3%);\n",
       "}\n",
       "#T_4b8b6_row1_col2 {\n",
       "  background-color: #fc9373;\n",
       "  color: #000000;\n",
       "}\n",
       "#T_4b8b6_row1_col5, #T_4b8b6_row5_col5 {\n",
       "  background-color: #4961d2;\n",
       "  color: #f1f1f1;\n",
       "}\n",
       "#T_4b8b6_row2_col1 {\n",
       "  width: 10em;\n",
       "  background: linear-gradient(90deg, #205ff2 32.9%, transparent 32.9%);\n",
       "}\n",
       "#T_4b8b6_row2_col2 {\n",
       "  background-color: #f03f2e;\n",
       "  color: #f1f1f1;\n",
       "}\n",
       "#T_4b8b6_row2_col5 {\n",
       "  background-color: #aac7fd;\n",
       "  color: #000000;\n",
       "}\n",
       "#T_4b8b6_row3_col1 {\n",
       "  width: 10em;\n",
       "  background: linear-gradient(90deg, #205ff2 1.3%, transparent 1.3%);\n",
       "}\n",
       "#T_4b8b6_row3_col2 {\n",
       "  background-color: #ffece4;\n",
       "  color: #000000;\n",
       "}\n",
       "#T_4b8b6_row3_col5, #T_4b8b6_row4_col5 {\n",
       "  background-color: #3b4cc0;\n",
       "  color: #f1f1f1;\n",
       "}\n",
       "#T_4b8b6_row4_col1 {\n",
       "  width: 10em;\n",
       "  background: linear-gradient(90deg, #205ff2 0.9%, transparent 0.9%);\n",
       "}\n",
       "#T_4b8b6_row4_col2 {\n",
       "  background-color: #fff5f0;\n",
       "  color: #000000;\n",
       "}\n",
       "#T_4b8b6_row5_col1 {\n",
       "  width: 10em;\n",
       "  background: linear-gradient(90deg, #205ff2 2.6%, transparent 2.6%);\n",
       "}\n",
       "#T_4b8b6_row5_col2 {\n",
       "  background-color: #fee3d6;\n",
       "  color: #000000;\n",
       "}\n",
       "</style>\n",
       "<table id=\"T_4b8b6\">\n",
       "  <thead>\n",
       "    <tr>\n",
       "      <th class=\"blank level0\" >&nbsp;</th>\n",
       "      <th id=\"T_4b8b6_level0_col0\" class=\"col_heading level0 col0\" >count</th>\n",
       "      <th id=\"T_4b8b6_level0_col1\" class=\"col_heading level0 col1\" >mean</th>\n",
       "      <th id=\"T_4b8b6_level0_col2\" class=\"col_heading level0 col2\" >std</th>\n",
       "      <th id=\"T_4b8b6_level0_col3\" class=\"col_heading level0 col3\" >min</th>\n",
       "      <th id=\"T_4b8b6_level0_col4\" class=\"col_heading level0 col4\" >25%</th>\n",
       "      <th id=\"T_4b8b6_level0_col5\" class=\"col_heading level0 col5\" >50%</th>\n",
       "      <th id=\"T_4b8b6_level0_col6\" class=\"col_heading level0 col6\" >75%</th>\n",
       "      <th id=\"T_4b8b6_level0_col7\" class=\"col_heading level0 col7\" >max</th>\n",
       "    </tr>\n",
       "  </thead>\n",
       "  <tbody>\n",
       "    <tr>\n",
       "      <th id=\"T_4b8b6_level0_row0\" class=\"row_heading level0 row0\" >Age</th>\n",
       "      <td id=\"T_4b8b6_row0_col0\" class=\"data row0 col0\" >2966.000000</td>\n",
       "      <td id=\"T_4b8b6_row0_col1\" class=\"data row0 col1\" >21.485840</td>\n",
       "      <td id=\"T_4b8b6_row0_col2\" class=\"data row0 col2\" >1.324933</td>\n",
       "      <td id=\"T_4b8b6_row0_col3\" class=\"data row0 col3\" >19.000000</td>\n",
       "      <td id=\"T_4b8b6_row0_col4\" class=\"data row0 col4\" >21.000000</td>\n",
       "      <td id=\"T_4b8b6_row0_col5\" class=\"data row0 col5\" >21.000000</td>\n",
       "      <td id=\"T_4b8b6_row0_col6\" class=\"data row0 col6\" >22.000000</td>\n",
       "      <td id=\"T_4b8b6_row0_col7\" class=\"data row0 col7\" >30.000000</td>\n",
       "    </tr>\n",
       "    <tr>\n",
       "      <th id=\"T_4b8b6_level0_row1\" class=\"row_heading level0 row1\" >Internships</th>\n",
       "      <td id=\"T_4b8b6_row1_col0\" class=\"data row1 col0\" >2966.000000</td>\n",
       "      <td id=\"T_4b8b6_row1_col1\" class=\"data row1 col1\" >0.703641</td>\n",
       "      <td id=\"T_4b8b6_row1_col2\" class=\"data row1 col2\" >0.740197</td>\n",
       "      <td id=\"T_4b8b6_row1_col3\" class=\"data row1 col3\" >0.000000</td>\n",
       "      <td id=\"T_4b8b6_row1_col4\" class=\"data row1 col4\" >0.000000</td>\n",
       "      <td id=\"T_4b8b6_row1_col5\" class=\"data row1 col5\" >1.000000</td>\n",
       "      <td id=\"T_4b8b6_row1_col6\" class=\"data row1 col6\" >1.000000</td>\n",
       "      <td id=\"T_4b8b6_row1_col7\" class=\"data row1 col7\" >3.000000</td>\n",
       "    </tr>\n",
       "    <tr>\n",
       "      <th id=\"T_4b8b6_level0_row2\" class=\"row_heading level0 row2\" >CGPA</th>\n",
       "      <td id=\"T_4b8b6_row2_col0\" class=\"data row2 col0\" >2966.000000</td>\n",
       "      <td id=\"T_4b8b6_row2_col1\" class=\"data row2 col1\" >7.073837</td>\n",
       "      <td id=\"T_4b8b6_row2_col2\" class=\"data row2 col2\" >0.967748</td>\n",
       "      <td id=\"T_4b8b6_row2_col3\" class=\"data row2 col3\" >5.000000</td>\n",
       "      <td id=\"T_4b8b6_row2_col4\" class=\"data row2 col4\" >6.000000</td>\n",
       "      <td id=\"T_4b8b6_row2_col5\" class=\"data row2 col5\" >7.000000</td>\n",
       "      <td id=\"T_4b8b6_row2_col6\" class=\"data row2 col6\" >8.000000</td>\n",
       "      <td id=\"T_4b8b6_row2_col7\" class=\"data row2 col7\" >9.000000</td>\n",
       "    </tr>\n",
       "    <tr>\n",
       "      <th id=\"T_4b8b6_level0_row3\" class=\"row_heading level0 row3\" >Hostel</th>\n",
       "      <td id=\"T_4b8b6_row3_col0\" class=\"data row3 col0\" >2966.000000</td>\n",
       "      <td id=\"T_4b8b6_row3_col1\" class=\"data row3 col1\" >0.269049</td>\n",
       "      <td id=\"T_4b8b6_row3_col2\" class=\"data row3 col2\" >0.443540</td>\n",
       "      <td id=\"T_4b8b6_row3_col3\" class=\"data row3 col3\" >0.000000</td>\n",
       "      <td id=\"T_4b8b6_row3_col4\" class=\"data row3 col4\" >0.000000</td>\n",
       "      <td id=\"T_4b8b6_row3_col5\" class=\"data row3 col5\" >0.000000</td>\n",
       "      <td id=\"T_4b8b6_row3_col6\" class=\"data row3 col6\" >1.000000</td>\n",
       "      <td id=\"T_4b8b6_row3_col7\" class=\"data row3 col7\" >1.000000</td>\n",
       "    </tr>\n",
       "    <tr>\n",
       "      <th id=\"T_4b8b6_level0_row4\" class=\"row_heading level0 row4\" >HistoryOfBacklogs</th>\n",
       "      <td id=\"T_4b8b6_row4_col0\" class=\"data row4 col0\" >2966.000000</td>\n",
       "      <td id=\"T_4b8b6_row4_col1\" class=\"data row4 col1\" >0.192178</td>\n",
       "      <td id=\"T_4b8b6_row4_col2\" class=\"data row4 col2\" >0.394079</td>\n",
       "      <td id=\"T_4b8b6_row4_col3\" class=\"data row4 col3\" >0.000000</td>\n",
       "      <td id=\"T_4b8b6_row4_col4\" class=\"data row4 col4\" >0.000000</td>\n",
       "      <td id=\"T_4b8b6_row4_col5\" class=\"data row4 col5\" >0.000000</td>\n",
       "      <td id=\"T_4b8b6_row4_col6\" class=\"data row4 col6\" >0.000000</td>\n",
       "      <td id=\"T_4b8b6_row4_col7\" class=\"data row4 col7\" >1.000000</td>\n",
       "    </tr>\n",
       "    <tr>\n",
       "      <th id=\"T_4b8b6_level0_row5\" class=\"row_heading level0 row5\" >PlacedOrNot</th>\n",
       "      <td id=\"T_4b8b6_row5_col0\" class=\"data row5 col0\" >2966.000000</td>\n",
       "      <td id=\"T_4b8b6_row5_col1\" class=\"data row5 col1\" >0.552596</td>\n",
       "      <td id=\"T_4b8b6_row5_col2\" class=\"data row5 col2\" >0.497310</td>\n",
       "      <td id=\"T_4b8b6_row5_col3\" class=\"data row5 col3\" >0.000000</td>\n",
       "      <td id=\"T_4b8b6_row5_col4\" class=\"data row5 col4\" >0.000000</td>\n",
       "      <td id=\"T_4b8b6_row5_col5\" class=\"data row5 col5\" >1.000000</td>\n",
       "      <td id=\"T_4b8b6_row5_col6\" class=\"data row5 col6\" >1.000000</td>\n",
       "      <td id=\"T_4b8b6_row5_col7\" class=\"data row5 col7\" >1.000000</td>\n",
       "    </tr>\n",
       "  </tbody>\n",
       "</table>\n"
      ],
      "text/plain": [
       "<pandas.io.formats.style.Styler at 0x248d98b5fa0>"
      ]
     },
     "execution_count": 8,
     "metadata": {},
     "output_type": "execute_result"
    }
   ],
   "source": [
    "# Descriptive statistics of the dataframe\n",
    "print(\"\\n Descriptive statistics of the dataframe:\")\n",
    "\n",
    "# Generate descriptive statistics for the DataFrame and transpose it for readability\n",
    "descriptive_stats = data.describe().T\n",
    "#print(descriptive_stats)\n",
    "\n",
    "# Apply a bar chart style to the 'mean' column\n",
    "styled_stats = descriptive_stats.style.bar(subset=['mean'], color='#205ff2')\n",
    "\n",
    "# Apply a background gradient based on standard deviation\n",
    "styled_stats = styled_stats.background_gradient(subset=['std'], cmap='Reds')\n",
    "\n",
    "# Apply a background gradient based on the 50th percentile\n",
    "styled_stats = styled_stats.background_gradient(subset=['50%'], cmap='coolwarm')\n",
    "\n",
    "# Display the styled statistics\n",
    "styled_stats\n"
   ]
  },
  {
   "cell_type": "code",
   "execution_count": 9,
   "id": "f988a8bd-1c8f-4962-80b6-a6ca1ead40f0",
   "metadata": {},
   "outputs": [
    {
     "name": "stdout",
     "output_type": "stream",
     "text": [
      "\n",
      "Descriptive statistics of the dataframe:\n",
      "                        mean   min   max\n",
      "Age                21.485840  19.0  30.0\n",
      "Internships         0.703641   0.0   3.0\n",
      "CGPA                7.073837   5.0   9.0\n",
      "Hostel              0.269049   0.0   1.0\n",
      "HistoryOfBacklogs   0.192178   0.0   1.0\n",
      "PlacedOrNot         0.552596   0.0   1.0\n"
     ]
    }
   ],
   "source": [
    "# Descriptive statistics of the dataframe\n",
    "print(\"\\nDescriptive statistics of the dataframe:\")\n",
    "print(data.describe().loc[['mean', 'min', 'max']].T)"
   ]
  },
  {
   "cell_type": "code",
   "execution_count": 10,
   "id": "8bb8b75c-a84f-4489-b0dd-20bc49125e23",
   "metadata": {},
   "outputs": [
    {
     "name": "stdout",
     "output_type": "stream",
     "text": [
      "\n",
      "Checking for missing values:\n",
      "Age                  0\n",
      "Gender               0\n",
      "Stream               0\n",
      "Internships          0\n",
      "CGPA                 0\n",
      "Hostel               0\n",
      "HistoryOfBacklogs    0\n",
      "PlacedOrNot          0\n",
      "dtype: int64\n",
      "Number of numerical variables:  6\n",
      "Numeric Column names: Index(['Age', 'Internships', 'CGPA', 'Hostel', 'HistoryOfBacklogs',\n",
      "       'PlacedOrNot'],\n",
      "      dtype='object')\n"
     ]
    }
   ],
   "source": [
    "print(\"\\nChecking for missing values:\")\n",
    "print(data.isnull().sum())\n",
    "print(\"Number of numerical variables: \", len(data.select_dtypes(include=['int64', 'float64']).columns))\n",
    "print(\"Numeric Column names:\", data.select_dtypes(include=['int64', 'float64']).columns)\n"
   ]
  },
  {
   "cell_type": "markdown",
   "id": "ee95c38d-dbe5-4b4d-a79d-b860a54d0b74",
   "metadata": {},
   "source": [
    "### Descriptive Statistics Summary:\r\n",
    "\r\n",
    "- Age ranges from 19 to 30 years old.\r\n",
    "- The lowest number of internships recorded is 0 (no internships), while the highest is 3.\r\n",
    "- Most students did not reside in a hostel (average hostel occupancy is below 0.5).\r\n",
    "- Most students have no backlogs (average backlog count is below 0.5).\r\n",
    "- The majority of students have been successfully placed in jobs (placement rate is above 0.5).\r\n",
    "0.5)."
   ]
  },
  {
   "cell_type": "code",
   "execution_count": 11,
   "id": "828a4366-bed6-452a-911f-f6eeee0dcbc2",
   "metadata": {},
   "outputs": [],
   "source": [
    "# Renamed Columns\n",
    "data.rename(columns={'HistoryOfBacklogs': 'backlogs', 'PlacedOrNot': 'placed'}, inplace=True)"
   ]
  },
  {
   "cell_type": "code",
   "execution_count": 12,
   "id": "5b0e05b6-655d-4e3d-98fa-942fa4aa8712",
   "metadata": {},
   "outputs": [],
   "source": [
    "#  transformed into lowercase\n",
    "data = data.rename(columns=str.lower)"
   ]
  },
  {
   "cell_type": "markdown",
   "id": "dcedd048-17d3-4071-a6df-afc4c1115e8e",
   "metadata": {},
   "source": [
    "###  Checking for NaN values\n",
    "\n",
    "Fortunately data has no missing value\r\n"
   ]
  },
  {
   "cell_type": "code",
   "execution_count": 14,
   "id": "0fcd0a8b-4deb-4390-a134-857f0ae4b060",
   "metadata": {},
   "outputs": [
    {
     "name": "stdout",
     "output_type": "stream",
     "text": [
      "\n",
      "Checking for missing values:\n"
     ]
    },
    {
     "data": {
      "text/plain": [
       "age            0\n",
       "gender         0\n",
       "stream         0\n",
       "internships    0\n",
       "cgpa           0\n",
       "hostel         0\n",
       "backlogs       0\n",
       "placed         0\n",
       "dtype: int64"
      ]
     },
     "execution_count": 14,
     "metadata": {},
     "output_type": "execute_result"
    }
   ],
   "source": [
    "# Checking if our dataset contains any NULL values\n",
    "print(\"\\nChecking for missing values:\")\n",
    "data.isnull().sum()"
   ]
  },
  {
   "cell_type": "markdown",
   "id": "b6165a8f-375b-4ab6-bc0d-17b33db7077c",
   "metadata": {},
   "source": [
    "# Exploratory Data Analysis (EDA) and visualization"
   ]
  },
  {
   "cell_type": "code",
   "execution_count": 15,
   "id": "60f3de66-a9dc-4d3f-8997-97fcaa20aba6",
   "metadata": {},
   "outputs": [],
   "source": [
    "# Define palette with colors for placed and not placed\n",
    "palette =['#d74a49', '#92ba92'] # (yes,no)\n",
    "#92ba92"
   ]
  },
  {
   "cell_type": "code",
   "execution_count": 17,
   "id": "90a66f3f-2dea-41ce-ba8e-744604811be2",
   "metadata": {},
   "outputs": [],
   "source": [
    "numeric_df = data.select_dtypes(include=['number'])"
   ]
  },
  {
   "cell_type": "code",
   "execution_count": 18,
   "id": "e8635680-233a-48c4-8fe7-01240cef000d",
   "metadata": {},
   "outputs": [
    {
     "name": "stdout",
     "output_type": "stream",
     "text": [
      "Number of numerical variables:  2966\n",
      "\n",
      "\n",
      "Numeric Column names: Index(['age', 'internships', 'cgpa', 'hostel', 'backlogs', 'placed'], dtype='object')\n",
      "\n",
      "\n"
     ]
    },
    {
     "data": {
      "text/html": [
       "<div>\n",
       "<style scoped>\n",
       "    .dataframe tbody tr th:only-of-type {\n",
       "        vertical-align: middle;\n",
       "    }\n",
       "\n",
       "    .dataframe tbody tr th {\n",
       "        vertical-align: top;\n",
       "    }\n",
       "\n",
       "    .dataframe thead th {\n",
       "        text-align: right;\n",
       "    }\n",
       "</style>\n",
       "<table border=\"1\" class=\"dataframe\">\n",
       "  <thead>\n",
       "    <tr style=\"text-align: right;\">\n",
       "      <th></th>\n",
       "      <th>age</th>\n",
       "      <th>internships</th>\n",
       "      <th>cgpa</th>\n",
       "      <th>hostel</th>\n",
       "      <th>backlogs</th>\n",
       "      <th>placed</th>\n",
       "    </tr>\n",
       "  </thead>\n",
       "  <tbody>\n",
       "    <tr>\n",
       "      <th>0</th>\n",
       "      <td>22</td>\n",
       "      <td>1</td>\n",
       "      <td>8</td>\n",
       "      <td>1</td>\n",
       "      <td>1</td>\n",
       "      <td>1</td>\n",
       "    </tr>\n",
       "    <tr>\n",
       "      <th>1</th>\n",
       "      <td>21</td>\n",
       "      <td>0</td>\n",
       "      <td>7</td>\n",
       "      <td>1</td>\n",
       "      <td>1</td>\n",
       "      <td>1</td>\n",
       "    </tr>\n",
       "    <tr>\n",
       "      <th>2</th>\n",
       "      <td>22</td>\n",
       "      <td>1</td>\n",
       "      <td>6</td>\n",
       "      <td>0</td>\n",
       "      <td>0</td>\n",
       "      <td>1</td>\n",
       "    </tr>\n",
       "    <tr>\n",
       "      <th>3</th>\n",
       "      <td>21</td>\n",
       "      <td>0</td>\n",
       "      <td>8</td>\n",
       "      <td>0</td>\n",
       "      <td>1</td>\n",
       "      <td>1</td>\n",
       "    </tr>\n",
       "    <tr>\n",
       "      <th>4</th>\n",
       "      <td>22</td>\n",
       "      <td>0</td>\n",
       "      <td>8</td>\n",
       "      <td>1</td>\n",
       "      <td>0</td>\n",
       "      <td>1</td>\n",
       "    </tr>\n",
       "  </tbody>\n",
       "</table>\n",
       "</div>"
      ],
      "text/plain": [
       "   age  internships  cgpa  hostel  backlogs  placed\n",
       "0   22            1     8       1         1       1\n",
       "1   21            0     7       1         1       1\n",
       "2   22            1     6       0         0       1\n",
       "3   21            0     8       0         1       1\n",
       "4   22            0     8       1         0       1"
      ]
     },
     "execution_count": 18,
     "metadata": {},
     "output_type": "execute_result"
    }
   ],
   "source": [
    "# list of numerical variables\n",
    "numerical_features = data.select_dtypes(include=['number'])\n",
    "\n",
    "print('Number of numerical variables: ', len(numerical_features))\n",
    "print('\\n')\n",
    "\n",
    "print('Numeric Column names:', numerical_features.columns)\n",
    "print('\\n')\n",
    "\n",
    "# visualise the numerical variables\n",
    "data[numerical_features.columns].head()\n"
   ]
  },
  {
   "cell_type": "code",
   "execution_count": 19,
   "id": "9a3ec4bf-47e0-4bb3-bca4-23cc7d592732",
   "metadata": {},
   "outputs": [
    {
     "data": {
      "text/plain": [
       "age            0.996099\n",
       "internships    0.789343\n",
       "cgpa           0.006222\n",
       "hostel         1.042100\n",
       "backlogs       1.563290\n",
       "placed        -0.211665\n",
       "dtype: float64"
      ]
     },
     "execution_count": 19,
     "metadata": {},
     "output_type": "execute_result"
    }
   ],
   "source": [
    "# Calculates Skewness measures the asymmetry of a distribution\n",
    "skewness = numeric_df.skew()\n",
    "skewness"
   ]
  },
  {
   "cell_type": "markdown",
   "id": "273b6f65-d98f-4e92-b633-b64761498fc7",
   "metadata": {},
   "source": [
    "### Age Distribution by Gender"
   ]
  },
  {
   "cell_type": "code",
   "execution_count": 20,
   "id": "709be4f1-15fc-4910-a62f-0a643892194b",
   "metadata": {},
   "outputs": [
    {
     "name": "stdout",
     "output_type": "stream",
     "text": [
      "    Unique Age Values  Counts\n",
      "0                  21    1084\n",
      "1                  22     941\n",
      "2                  20     375\n",
      "3                  23     195\n",
      "4                  19     156\n",
      "5                  24     131\n",
      "6                  26      50\n",
      "7                  25      29\n",
      "8                  28       3\n",
      "9                  30       1\n",
      "10                 29       1\n"
     ]
    }
   ],
   "source": [
    "# Creating a DataFrame to count the occurrences of each unique 'age' value in the entire dataset\n",
    "age_counts_df = pd.DataFrame(data['age'].value_counts()).reset_index()\n",
    "\n",
    "# Renaming the columns of the DataFrame\n",
    "age_counts_df.columns = ['Unique Age Values', 'Counts']\n",
    "\n",
    "# Displaying the DataFrame showing the count of unique 'age' values in the entire dataset\n",
    "print(age_counts_df)"
   ]
  },
  {
   "cell_type": "code",
   "execution_count": 21,
   "id": "d451eb6f-670f-4d25-b973-68f37a5a6e8f",
   "metadata": {},
   "outputs": [
    {
     "name": "stdout",
     "output_type": "stream",
     "text": [
      "    gender  age  Counts\n",
      "0   Female   21     185\n",
      "1   Female   22     169\n",
      "2   Female   20      56\n",
      "3   Female   23      29\n",
      "4   Female   19      18\n",
      "5   Female   24      18\n",
      "6   Female   26      10\n",
      "7   Female   25       4\n",
      "8   Female   28       1\n",
      "9   Female   29       1\n",
      "10    Male   21     899\n",
      "11    Male   22     772\n",
      "12    Male   20     319\n",
      "13    Male   23     166\n",
      "14    Male   19     138\n",
      "15    Male   24     113\n",
      "16    Male   26      40\n",
      "17    Male   25      25\n",
      "18    Male   28       2\n",
      "19    Male   30       1\n"
     ]
    }
   ],
   "source": [
    "# Grouping the data by 'gender' and counting the occurrences of each unique 'age' value within each group\n",
    "age_counts_by_gender = data.groupby('gender')['age'].value_counts().reset_index(name='Counts')\n",
    "\n",
    "# Displaying the DataFrame showing the count of unique 'age' values for each gender\n",
    "print(age_counts_by_gender)"
   ]
  },
  {
   "cell_type": "code",
   "execution_count": 22,
   "id": "a778ac93-653d-4018-8860-4edb5d93a7fe",
   "metadata": {},
   "outputs": [
    {
     "data": {
      "image/png": "[encoded data removed]",
      "text/plain": [
       "<Figure size 1000x600 with 1 Axes>"
      ]
     },
     "metadata": {},
     "output_type": "display_data"
    }
   ],
   "source": [
    "import matplotlib.pyplot as plt\n",
    "import seaborn as sns\n",
    "\n",
    "# Plotting the data\n",
    "plt.figure(figsize=(10, 6))\n",
    "\n",
    "# Plotting age distribution for males (Lightblue)\n",
    "sns.barplot(x='age', y='Counts', data=age_counts_by_gender[age_counts_by_gender['gender'] == 'Male'], color='#a2d2ff', label='Male')\n",
    "\n",
    "# Plotting age distribution for females (Magenta)\n",
    "sns.barplot(x='age', y='Counts', data=age_counts_by_gender[age_counts_by_gender['gender'] == 'Female'], color='#faaac7', label='Female')\n",
    "\n",
    "# Adding total count in each bar\n",
    "for p in plt.gca().patches:\n",
    "    plt.gca().annotate(f\"{int(p.get_height())}\", (p.get_x() + p.get_width() / 2., p.get_height()), ha='center', va='center', xytext=(0, 10), textcoords='offset points')\n",
    "\n",
    "# Adding labels and title\n",
    "plt.xlabel('Age')\n",
    "plt.ylabel('Counts')\n",
    "plt.title('Age Distribution by Gender')\n",
    "\n",
    "plt.legend()\n",
    "plt.show()\n"
   ]
  },
  {
   "cell_type": "markdown",
   "id": "15c42378-810a-4892-870d-fd288b448a27",
   "metadata": {},
   "source": [
    "## Placement Details by Gender"
   ]
  },
  {
   "cell_type": "code",
   "execution_count": 23,
   "id": "a89dc305-f8b1-4db3-93fb-9a023eeb5a10",
   "metadata": {},
   "outputs": [],
   "source": [
    "# Placement Details by Gender\n",
    "# Data extraction\n",
    "male = data[data['gender'] == \"Male\"]\n",
    "female = data[data['gender'] == \"Female\"]\n",
    "total_male = male.shape[0]\n",
    "total_female = female.shape[0]\n",
    "total_male_pass = male[male['placed'] == 1].shape[0]\n",
    "total_female_pass = female[female['placed'] == 1].shape[0]"
   ]
  },
  {
   "cell_type": "code",
   "execution_count": 24,
   "id": "b0fdd9a7-4d8a-4204-96c3-397ea53a8c7d",
   "metadata": {},
   "outputs": [],
   "source": [
    "# Calculation of pass percentages\n",
    "pass_male_percentage = np.round((total_male_pass * 100) / total_male, 2)\n",
    "pass_female_percentage = np.round((total_female_pass * 100) / total_female, 2)\n"
   ]
  },
  {
   "cell_type": "code",
   "execution_count": 25,
   "id": "06b9ddd5-2455-4495-8e3d-0adef9f65c4e",
   "metadata": {},
   "outputs": [
    {
     "data": {
      "text/plain": [
       "{'Total Male': [2475],\n",
       " 'Total Female': [491],\n",
       " 'Total male pass': [1364],\n",
       " 'Total female pass': [275],\n",
       " '% of Passed Male': [55.11],\n",
       " '% of Passed Female': [56.01]}"
      ]
     },
     "execution_count": 25,
     "metadata": {},
     "output_type": "execute_result"
    }
   ],
   "source": [
    "# Details dictionary\n",
    "details = {\"Total Male\": [total_male],\n",
    "           \"Total Female\": [total_female],\n",
    "           \"Total male pass\": [total_male_pass],\n",
    "           \"Total female pass\": [total_female_pass],\n",
    "           \"% of Passed Male\": [pass_male_percentage],\n",
    "           \"% of Passed Female\": [pass_female_percentage]}\n",
    "\n",
    "details"
   ]
  },
  {
   "cell_type": "code",
   "execution_count": 26,
   "id": "56fd2830-cbeb-4d7b-bf3b-1cfc1187ca8a",
   "metadata": {},
   "outputs": [
    {
     "data": {
      "image/png": "[encoded data removed]",
      "text/plain": [
       "<Figure size 1000x600 with 1 Axes>"
      ]
     },
     "metadata": {},
     "output_type": "display_data"
    }
   ],
   "source": [
    "# Plotting the details in a bar chart\n",
    "fig, ax = plt.subplots(figsize=(10, 6))\n",
    "\n",
    "# Data for plotting\n",
    "categories = list(details.keys())\n",
    "values = list(details.values())  # Convert dict_values object to a list\n",
    "values = [item for sublist in values for item in sublist]  # Flatten the list\n",
    "colors = ['#a2d2ff', '#faaac7']\n",
    "\n",
    "# Plotting the data\n",
    "bars = ax.bar(categories, values, color=colors, alpha=0.7)\n",
    "\n",
    "# Adding text on each bar\n",
    "for bar in bars:\n",
    "    height = bar.get_height()\n",
    "    ax.annotate('{}'.format(height),\n",
    "                xy=(bar.get_x() + bar.get_width() / 2, height),\n",
    "                xytext=(0, 3),  # 3 points vertical offset\n",
    "                textcoords=\"offset points\",\n",
    "                ha='center', va='bottom')\n",
    "\n",
    "ax.set_ylabel('Count')\n",
    "ax.set_title('Placement Details by Gender')\n",
    "\n",
    "# Custom legend with both male and female labels\n",
    "female_patch = plt.Line2D([0], [0], marker='o', color='w', label='Female', markerfacecolor='#faaac7', markersize=10)\n",
    "male_patch = plt.Line2D([0], [0], marker='o', color='w', label='Male', markerfacecolor='#a2d2ff', markersize=10)\n",
    "\n",
    "ax.legend(handles=[male_patch, female_patch])\n",
    "\n",
    "# Display the plot\n",
    "plt.show()\n"
   ]
  },
  {
   "cell_type": "code",
   "execution_count": null,
   "id": "c1d7b3be-77ca-45b6-a0a6-633093bab6d0",
   "metadata": {},
   "outputs": [],
   "source": []
  },
  {
   "cell_type": "code",
   "execution_count": 27,
   "id": "8d268baa-0890-47f4-8bd2-50713d20ce33",
   "metadata": {},
   "outputs": [
    {
     "data": {
      "text/html": [
       "<div>\n",
       "<style scoped>\n",
       "    .dataframe tbody tr th:only-of-type {\n",
       "        vertical-align: middle;\n",
       "    }\n",
       "\n",
       "    .dataframe tbody tr th {\n",
       "        vertical-align: top;\n",
       "    }\n",
       "\n",
       "    .dataframe thead th {\n",
       "        text-align: right;\n",
       "    }\n",
       "</style>\n",
       "<table border=\"1\" class=\"dataframe\">\n",
       "  <thead>\n",
       "    <tr style=\"text-align: right;\">\n",
       "      <th></th>\n",
       "      <th>age</th>\n",
       "      <th>internships</th>\n",
       "      <th>cgpa</th>\n",
       "      <th>hostel</th>\n",
       "      <th>backlogs</th>\n",
       "      <th>placed</th>\n",
       "    </tr>\n",
       "  </thead>\n",
       "  <tbody>\n",
       "    <tr>\n",
       "      <th>age</th>\n",
       "      <td>1.000000</td>\n",
       "      <td>0.006552</td>\n",
       "      <td>-0.119787</td>\n",
       "      <td>0.003042</td>\n",
       "      <td>-0.042586</td>\n",
       "      <td>0.046943</td>\n",
       "    </tr>\n",
       "    <tr>\n",
       "      <th>internships</th>\n",
       "      <td>0.006552</td>\n",
       "      <td>1.000000</td>\n",
       "      <td>0.023496</td>\n",
       "      <td>0.004617</td>\n",
       "      <td>-0.015118</td>\n",
       "      <td>0.179334</td>\n",
       "    </tr>\n",
       "    <tr>\n",
       "      <th>cgpa</th>\n",
       "      <td>-0.119787</td>\n",
       "      <td>0.023496</td>\n",
       "      <td>1.000000</td>\n",
       "      <td>0.014991</td>\n",
       "      <td>0.002576</td>\n",
       "      <td>0.588648</td>\n",
       "    </tr>\n",
       "    <tr>\n",
       "      <th>hostel</th>\n",
       "      <td>0.003042</td>\n",
       "      <td>0.004617</td>\n",
       "      <td>0.014991</td>\n",
       "      <td>1.000000</td>\n",
       "      <td>0.103506</td>\n",
       "      <td>-0.038182</td>\n",
       "    </tr>\n",
       "    <tr>\n",
       "      <th>backlogs</th>\n",
       "      <td>-0.042586</td>\n",
       "      <td>-0.015118</td>\n",
       "      <td>0.002576</td>\n",
       "      <td>0.103506</td>\n",
       "      <td>1.000000</td>\n",
       "      <td>-0.022337</td>\n",
       "    </tr>\n",
       "    <tr>\n",
       "      <th>placed</th>\n",
       "      <td>0.046943</td>\n",
       "      <td>0.179334</td>\n",
       "      <td>0.588648</td>\n",
       "      <td>-0.038182</td>\n",
       "      <td>-0.022337</td>\n",
       "      <td>1.000000</td>\n",
       "    </tr>\n",
       "  </tbody>\n",
       "</table>\n",
       "</div>"
      ],
      "text/plain": [
       "                  age  internships      cgpa    hostel  backlogs    placed\n",
       "age          1.000000     0.006552 -0.119787  0.003042 -0.042586  0.046943\n",
       "internships  0.006552     1.000000  0.023496  0.004617 -0.015118  0.179334\n",
       "cgpa        -0.119787     0.023496  1.000000  0.014991  0.002576  0.588648\n",
       "hostel       0.003042     0.004617  0.014991  1.000000  0.103506 -0.038182\n",
       "backlogs    -0.042586    -0.015118  0.002576  0.103506  1.000000 -0.022337\n",
       "placed       0.046943     0.179334  0.588648 -0.038182 -0.022337  1.000000"
      ]
     },
     "execution_count": 27,
     "metadata": {},
     "output_type": "execute_result"
    }
   ],
   "source": [
    "# Drop non-numeric columns before calculating correlation\n",
    "numeric_data = data.select_dtypes(include=[np.number])\n",
    "correlation_matrix = numeric_data.corr()\n",
    "\n",
    "correlation_matrix"
   ]
  },
  {
   "cell_type": "code",
   "execution_count": 28,
   "id": "3c5227e3-d26b-40f5-a84e-31dedc262e58",
   "metadata": {},
   "outputs": [
    {
     "data": {
      "image/png": "[encoded data removed]",
      "text/plain": [
       "<Figure size 640x480 with 2 Axes>"
      ]
     },
     "metadata": {},
     "output_type": "display_data"
    }
   ],
   "source": [
    "# Plot the correlation matrix heatmap\n",
    "sns.heatmap(correlation_matrix, cmap='RdBu', annot=True, vmin=-1, vmax=1)\n",
    "plt.title('Correlation Matrix')\n",
    "plt.show()"
   ]
  },
  {
   "cell_type": "code",
   "execution_count": 29,
   "id": "3dad98c7-4e47-443b-9194-68f4f4831b76",
   "metadata": {},
   "outputs": [],
   "source": [
    "def num_plot(df, col, title, palette):\n",
    "    fig, ax = plt.subplots(2, 1, figsize=(5.2, 5), gridspec_kw={\"height_ratios\": (.1, .9)})\n",
    "    ax[0].set_title(title, fontsize=18)\n",
    "    sns.boxplot(y=pd.to_numeric(df['placed']), x=col, data=df, orient='h', ax=ax[0], palette=palette)\n",
    "    ax[0].set(yticks=[])\n",
    "    ax[0].set_ylabel('')\n",
    "    ax[0].set_xlabel('')\n",
    "    sns.countplot(x=col, data=df, ax=ax[1], hue=pd.to_numeric(df['placed']), palette=palette)\n",
    "    ax[1].set_xlabel(col, fontsize=16)\n",
    "    ax[1].set_yticks([])\n",
    "    for container in ax[1].containers:\n",
    "        ax[1].bar_label(container, fmt='%.1f')\n",
    "    plt.legend(title='Placed?', title_fontsize=14, labels=['no', 'yes'], fontsize=13, fancybox=True, shadow=True, frameon=True)\n",
    "    plt.tight_layout()\n",
    "    plt.show()\n"
   ]
  },
  {
   "cell_type": "code",
   "execution_count": 30,
   "id": "4393862e-3531-4c4e-ae02-deff8676626b",
   "metadata": {},
   "outputs": [
    {
     "data": {
      "image/png": "[encoded data removed]",
      "text/plain": [
       "<Figure size 520x500 with 2 Axes>"
      ]
     },
     "metadata": {},
     "output_type": "display_data"
    }
   ],
   "source": [
    "# CGPA affect job placement.\n",
    "num_plot(data, 'cgpa', 'CGPA by Placed',palette)\n",
    "\n"
   ]
  },
  {
   "cell_type": "code",
   "execution_count": 31,
   "id": "186be88d-f0ad-4c71-8f69-cb7d96c43285",
   "metadata": {},
   "outputs": [
    {
     "data": {
      "text/html": [
       "<div>\n",
       "<style scoped>\n",
       "    .dataframe tbody tr th:only-of-type {\n",
       "        vertical-align: middle;\n",
       "    }\n",
       "\n",
       "    .dataframe tbody tr th {\n",
       "        vertical-align: top;\n",
       "    }\n",
       "\n",
       "    .dataframe thead th {\n",
       "        text-align: right;\n",
       "    }\n",
       "</style>\n",
       "<table border=\"1\" class=\"dataframe\">\n",
       "  <thead>\n",
       "    <tr style=\"text-align: right;\">\n",
       "      <th></th>\n",
       "      <th>age</th>\n",
       "      <th>gender</th>\n",
       "      <th>stream</th>\n",
       "      <th>internships</th>\n",
       "      <th>cgpa</th>\n",
       "      <th>hostel</th>\n",
       "      <th>backlogs</th>\n",
       "      <th>placed</th>\n",
       "    </tr>\n",
       "  </thead>\n",
       "  <tbody>\n",
       "    <tr>\n",
       "      <th>118</th>\n",
       "      <td>24</td>\n",
       "      <td>Male</td>\n",
       "      <td>Information Technology</td>\n",
       "      <td>3</td>\n",
       "      <td>5</td>\n",
       "      <td>0</td>\n",
       "      <td>1</td>\n",
       "      <td>1</td>\n",
       "    </tr>\n",
       "    <tr>\n",
       "      <th>122</th>\n",
       "      <td>23</td>\n",
       "      <td>Male</td>\n",
       "      <td>Information Technology</td>\n",
       "      <td>1</td>\n",
       "      <td>5</td>\n",
       "      <td>0</td>\n",
       "      <td>0</td>\n",
       "      <td>1</td>\n",
       "    </tr>\n",
       "    <tr>\n",
       "      <th>137</th>\n",
       "      <td>24</td>\n",
       "      <td>Male</td>\n",
       "      <td>Information Technology</td>\n",
       "      <td>0</td>\n",
       "      <td>5</td>\n",
       "      <td>0</td>\n",
       "      <td>0</td>\n",
       "      <td>1</td>\n",
       "    </tr>\n",
       "    <tr>\n",
       "      <th>140</th>\n",
       "      <td>23</td>\n",
       "      <td>Male</td>\n",
       "      <td>Computer Science</td>\n",
       "      <td>1</td>\n",
       "      <td>5</td>\n",
       "      <td>0</td>\n",
       "      <td>0</td>\n",
       "      <td>1</td>\n",
       "    </tr>\n",
       "    <tr>\n",
       "      <th>143</th>\n",
       "      <td>24</td>\n",
       "      <td>Male</td>\n",
       "      <td>Computer Science</td>\n",
       "      <td>2</td>\n",
       "      <td>5</td>\n",
       "      <td>0</td>\n",
       "      <td>0</td>\n",
       "      <td>1</td>\n",
       "    </tr>\n",
       "    <tr>\n",
       "      <th>144</th>\n",
       "      <td>24</td>\n",
       "      <td>Male</td>\n",
       "      <td>Computer Science</td>\n",
       "      <td>2</td>\n",
       "      <td>5</td>\n",
       "      <td>0</td>\n",
       "      <td>0</td>\n",
       "      <td>1</td>\n",
       "    </tr>\n",
       "    <tr>\n",
       "      <th>152</th>\n",
       "      <td>23</td>\n",
       "      <td>Male</td>\n",
       "      <td>Computer Science</td>\n",
       "      <td>1</td>\n",
       "      <td>5</td>\n",
       "      <td>0</td>\n",
       "      <td>0</td>\n",
       "      <td>1</td>\n",
       "    </tr>\n",
       "  </tbody>\n",
       "</table>\n",
       "</div>"
      ],
      "text/plain": [
       "     age gender                  stream  internships  cgpa  hostel  backlogs  \\\n",
       "118   24   Male  Information Technology            3     5       0         1   \n",
       "122   23   Male  Information Technology            1     5       0         0   \n",
       "137   24   Male  Information Technology            0     5       0         0   \n",
       "140   23   Male        Computer Science            1     5       0         0   \n",
       "143   24   Male        Computer Science            2     5       0         0   \n",
       "144   24   Male        Computer Science            2     5       0         0   \n",
       "152   23   Male        Computer Science            1     5       0         0   \n",
       "\n",
       "     placed  \n",
       "118       1  \n",
       "122       1  \n",
       "137       1  \n",
       "140       1  \n",
       "143       1  \n",
       "144       1  \n",
       "152       1  "
      ]
     },
     "execution_count": 31,
     "metadata": {},
     "output_type": "execute_result"
    }
   ],
   "source": [
    "data.loc[(data['cgpa'] == 5) & (data['placed'] == 1)]"
   ]
  },
  {
   "cell_type": "code",
   "execution_count": 32,
   "id": "89379951-b12a-4a07-a2bc-9867de37d99b",
   "metadata": {},
   "outputs": [],
   "source": [
    "df_1 = data.loc[((data['age'] == 23) | (data['age'] == 24)) & (data['gender'] == 'Male') &\n",
    " ((data['stream'] == 'Information Technology') | (data['stream'] == 'Computer Science')) & (data['placed'] == 1)]"
   ]
  },
  {
   "cell_type": "code",
   "execution_count": 33,
   "id": "70766e27-c08c-4564-a4eb-e0b114b76cc6",
   "metadata": {},
   "outputs": [
    {
     "data": {
      "image/png": "[encoded data removed]",
      "text/plain": [
       "<Figure size 1200x300 with 2 Axes>"
      ]
     },
     "metadata": {},
     "output_type": "display_data"
    }
   ],
   "source": [
    "fig, ax = plt.subplots(1,2, figsize=(12,3))\n",
    "sns.boxplot(ax=ax[0], x='cgpa', data=df_1)\n",
    "sns.histplot(ax=ax[1], x='cgpa', data=df_1)\n",
    "plt.show()"
   ]
  },
  {
   "cell_type": "code",
   "execution_count": 34,
   "id": "b3e14b7e-700d-4279-a0e1-e0ddd5117cff",
   "metadata": {},
   "outputs": [
    {
     "name": "stdout",
     "output_type": "stream",
     "text": [
      "Removed 7 outliers !\n"
     ]
    }
   ],
   "source": [
    "# Removed outliers\n",
    "df_clean = data.drop(list(data.loc[(data['cgpa'] == 5) & (data['placed'] == 1)].index))\n",
    "\n",
    "print('Removed {} outliers !'.format(len(data)-len(df_clean)))"
   ]
  },
  {
   "cell_type": "code",
   "execution_count": 35,
   "id": "b7a3088e-3f96-4d7d-a3f6-70ca3cd8e80f",
   "metadata": {},
   "outputs": [
    {
     "data": {
      "image/png": "[encoded data removed]",
      "text/plain": [
       "<Figure size 520x500 with 2 Axes>"
      ]
     },
     "metadata": {},
     "output_type": "display_data"
    }
   ],
   "source": [
    "#plots cleaned dataset\n",
    "num_plot(df_clean, 'cgpa', 'CGPA by Placed', palette)\n"
   ]
  },
  {
   "cell_type": "code",
   "execution_count": null,
   "id": "07760289-9116-450a-8cda-957385a1199c",
   "metadata": {},
   "outputs": [],
   "source": [
    "df_clean.shape"
   ]
  },
  {
   "cell_type": "code",
   "execution_count": null,
   "id": "c7fa1d39-29a1-497b-8e59-bbd2600f33a6",
   "metadata": {},
   "outputs": [],
   "source": [
    "df_clean.info()"
   ]
  },
  {
   "cell_type": "markdown",
   "id": "9595cd53-e87f-433d-b0b1-84ee1444091e",
   "metadata": {},
   "source": [
    "# Encoding\r",
    "Since there is no order/hierarchy among the categorical features, they will be encoded by *One hot encoding* (using pd.get_dummies)."
   ]
  },
  {
   "cell_type": "code",
   "execution_count": 36,
   "id": "0da9b300-cf1b-43bc-a656-f01ff26b811e",
   "metadata": {},
   "outputs": [
    {
     "data": {
      "text/html": [
       "<div>\n",
       "<style scoped>\n",
       "    .dataframe tbody tr th:only-of-type {\n",
       "        vertical-align: middle;\n",
       "    }\n",
       "\n",
       "    .dataframe tbody tr th {\n",
       "        vertical-align: top;\n",
       "    }\n",
       "\n",
       "    .dataframe thead th {\n",
       "        text-align: right;\n",
       "    }\n",
       "</style>\n",
       "<table border=\"1\" class=\"dataframe\">\n",
       "  <thead>\n",
       "    <tr style=\"text-align: right;\">\n",
       "      <th></th>\n",
       "      <th>age</th>\n",
       "      <th>internships</th>\n",
       "      <th>cgpa</th>\n",
       "      <th>hostel</th>\n",
       "      <th>backlogs</th>\n",
       "      <th>placed</th>\n",
       "      <th>gender_Male</th>\n",
       "      <th>stream_Computer Science</th>\n",
       "      <th>stream_Electrical</th>\n",
       "      <th>stream_Electronics And Communication</th>\n",
       "      <th>stream_Information Technology</th>\n",
       "      <th>stream_Mechanical</th>\n",
       "    </tr>\n",
       "  </thead>\n",
       "  <tbody>\n",
       "    <tr>\n",
       "      <th>0</th>\n",
       "      <td>22</td>\n",
       "      <td>1</td>\n",
       "      <td>8</td>\n",
       "      <td>1</td>\n",
       "      <td>1</td>\n",
       "      <td>1</td>\n",
       "      <td>True</td>\n",
       "      <td>False</td>\n",
       "      <td>False</td>\n",
       "      <td>True</td>\n",
       "      <td>False</td>\n",
       "      <td>False</td>\n",
       "    </tr>\n",
       "    <tr>\n",
       "      <th>1</th>\n",
       "      <td>21</td>\n",
       "      <td>0</td>\n",
       "      <td>7</td>\n",
       "      <td>1</td>\n",
       "      <td>1</td>\n",
       "      <td>1</td>\n",
       "      <td>False</td>\n",
       "      <td>True</td>\n",
       "      <td>False</td>\n",
       "      <td>False</td>\n",
       "      <td>False</td>\n",
       "      <td>False</td>\n",
       "    </tr>\n",
       "    <tr>\n",
       "      <th>2</th>\n",
       "      <td>22</td>\n",
       "      <td>1</td>\n",
       "      <td>6</td>\n",
       "      <td>0</td>\n",
       "      <td>0</td>\n",
       "      <td>1</td>\n",
       "      <td>False</td>\n",
       "      <td>False</td>\n",
       "      <td>False</td>\n",
       "      <td>False</td>\n",
       "      <td>True</td>\n",
       "      <td>False</td>\n",
       "    </tr>\n",
       "    <tr>\n",
       "      <th>3</th>\n",
       "      <td>21</td>\n",
       "      <td>0</td>\n",
       "      <td>8</td>\n",
       "      <td>0</td>\n",
       "      <td>1</td>\n",
       "      <td>1</td>\n",
       "      <td>True</td>\n",
       "      <td>False</td>\n",
       "      <td>False</td>\n",
       "      <td>False</td>\n",
       "      <td>True</td>\n",
       "      <td>False</td>\n",
       "    </tr>\n",
       "    <tr>\n",
       "      <th>4</th>\n",
       "      <td>22</td>\n",
       "      <td>0</td>\n",
       "      <td>8</td>\n",
       "      <td>1</td>\n",
       "      <td>0</td>\n",
       "      <td>1</td>\n",
       "      <td>True</td>\n",
       "      <td>False</td>\n",
       "      <td>False</td>\n",
       "      <td>False</td>\n",
       "      <td>False</td>\n",
       "      <td>True</td>\n",
       "    </tr>\n",
       "  </tbody>\n",
       "</table>\n",
       "</div>"
      ],
      "text/plain": [
       "   age  internships  cgpa  hostel  backlogs  placed  gender_Male  \\\n",
       "0   22            1     8       1         1       1         True   \n",
       "1   21            0     7       1         1       1        False   \n",
       "2   22            1     6       0         0       1        False   \n",
       "3   21            0     8       0         1       1         True   \n",
       "4   22            0     8       1         0       1         True   \n",
       "\n",
       "   stream_Computer Science  stream_Electrical  \\\n",
       "0                    False              False   \n",
       "1                     True              False   \n",
       "2                    False              False   \n",
       "3                    False              False   \n",
       "4                    False              False   \n",
       "\n",
       "   stream_Electronics And Communication  stream_Information Technology  \\\n",
       "0                                  True                          False   \n",
       "1                                 False                          False   \n",
       "2                                 False                           True   \n",
       "3                                 False                           True   \n",
       "4                                 False                          False   \n",
       "\n",
       "   stream_Mechanical  \n",
       "0              False  \n",
       "1              False  \n",
       "2              False  \n",
       "3              False  \n",
       "4               True  "
      ]
     },
     "execution_count": 36,
     "metadata": {},
     "output_type": "execute_result"
    }
   ],
   "source": [
    "df_encoded = pd.get_dummies(df_clean, drop_first=True)\n",
    "\n",
    "df_encoded.head()"
   ]
  },
  {
   "cell_type": "markdown",
   "id": "90fa73ca-6f3f-4224-9766-2578d1797bb5",
   "metadata": {},
   "source": [
    "## Splitting the data into training, testing, and validation sets   \n",
    "\n",
    "The last step in data preprocessing is to split the data into training, testing, and validation sets:\n",
    "* Training set: The neural network will be trained on this subset of the data.\n",
    "* Validation set: This set of data allows us to perform hyperparameter tuning (that is, tuning the number of hidden layers) using an unbiased source of data.\n",
    "* Testing set: The final evaluation of the neural network will be based on this subset of the data."
   ]
  },
  {
   "cell_type": "markdown",
   "id": "c2538840-5dd4-45be-9502-59dce07c5bdc",
   "metadata": {},
   "source": [
    "# First, let's separate the dataset into X (input features) and y (target variable):"
   ]
  },
  {
   "cell_type": "code",
   "execution_count": 37,
   "id": "a837416a-1e4f-473d-9a0c-edee0fee0f7f",
   "metadata": {},
   "outputs": [
    {
     "name": "stdout",
     "output_type": "stream",
     "text": [
      "(2959, 11)\n",
      "(2959,)\n"
     ]
    }
   ],
   "source": [
    "# splitting the dataset into x(independent variables) and y(dependent variables)\n",
    "X = df_encoded.drop('placed', axis=1)\n",
    "\n",
    "y = df_encoded['placed']\n",
    "\n",
    "print(X.shape)\n",
    "print(y.shape)"
   ]
  },
  {
   "cell_type": "code",
   "execution_count": 38,
   "id": "cb0898e4-e4bd-4d61-8daa-8aefe7a017e6",
   "metadata": {},
   "outputs": [
    {
     "data": {
      "text/plain": [
       "(2959, 11)"
      ]
     },
     "execution_count": 38,
     "metadata": {},
     "output_type": "execute_result"
    }
   ],
   "source": [
    "X.shape"
   ]
  },
  {
   "cell_type": "markdown",
   "id": "0085159f-626b-4e4d-a4ad-144370023d14",
   "metadata": {},
   "source": [
    "#### Then, make the first split to split the data into the training set (80%) and the testing set (20%) according to the preceding diagram:"
   ]
  },
  {
   "cell_type": "code",
   "execution_count": 39,
   "id": "b1fb20c1-69ed-483b-b723-022487c36e95",
   "metadata": {},
   "outputs": [
    {
     "data": {
      "text/plain": [
       "((2367, 11), (2367,), (592, 11), (592,))"
      ]
     },
     "execution_count": 39,
     "metadata": {},
     "output_type": "execute_result"
    }
   ],
   "source": [
    "# splitting the data into training and testing set\n",
    "\n",
    "from sklearn.model_selection import train_test_split\n",
    "X_train, X_test, y_train, y_test = train_test_split(X, y, test_size = 0.20, random_state = 0)\n",
    "\n",
    "X_train.shape, y_train.shape, X_test.shape, y_test.shape"
   ]
  },
  {
   "cell_type": "code",
   "execution_count": 40,
   "id": "c4feb492-2866-4214-95c9-7751eebab0c1",
   "metadata": {},
   "outputs": [
    {
     "data": {
      "text/html": [
       "<div>\n",
       "<style scoped>\n",
       "    .dataframe tbody tr th:only-of-type {\n",
       "        vertical-align: middle;\n",
       "    }\n",
       "\n",
       "    .dataframe tbody tr th {\n",
       "        vertical-align: top;\n",
       "    }\n",
       "\n",
       "    .dataframe thead th {\n",
       "        text-align: right;\n",
       "    }\n",
       "</style>\n",
       "<table border=\"1\" class=\"dataframe\">\n",
       "  <thead>\n",
       "    <tr style=\"text-align: right;\">\n",
       "      <th></th>\n",
       "      <th>0</th>\n",
       "      <th>1</th>\n",
       "      <th>2</th>\n",
       "      <th>3</th>\n",
       "      <th>4</th>\n",
       "      <th>5</th>\n",
       "      <th>6</th>\n",
       "      <th>7</th>\n",
       "      <th>8</th>\n",
       "      <th>9</th>\n",
       "      <th>10</th>\n",
       "    </tr>\n",
       "  </thead>\n",
       "  <tbody>\n",
       "    <tr>\n",
       "      <th>0</th>\n",
       "      <td>-0.364244</td>\n",
       "      <td>-0.956351</td>\n",
       "      <td>-1.106575</td>\n",
       "      <td>1.671308</td>\n",
       "      <td>-0.487159</td>\n",
       "      <td>0.450949</td>\n",
       "      <td>-0.611365</td>\n",
       "      <td>-0.348238</td>\n",
       "      <td>-0.403912</td>\n",
       "      <td>-0.548224</td>\n",
       "      <td>2.488881</td>\n",
       "    </tr>\n",
       "    <tr>\n",
       "      <th>1</th>\n",
       "      <td>1.135173</td>\n",
       "      <td>1.730513</td>\n",
       "      <td>-1.106575</td>\n",
       "      <td>-0.598334</td>\n",
       "      <td>-0.487159</td>\n",
       "      <td>-2.217544</td>\n",
       "      <td>-0.611365</td>\n",
       "      <td>-0.348238</td>\n",
       "      <td>-0.403912</td>\n",
       "      <td>1.824072</td>\n",
       "      <td>-0.401787</td>\n",
       "    </tr>\n",
       "    <tr>\n",
       "      <th>2</th>\n",
       "      <td>0.385465</td>\n",
       "      <td>-0.956351</td>\n",
       "      <td>-0.070064</td>\n",
       "      <td>-0.598334</td>\n",
       "      <td>-0.487159</td>\n",
       "      <td>0.450949</td>\n",
       "      <td>-0.611365</td>\n",
       "      <td>-0.348238</td>\n",
       "      <td>2.475786</td>\n",
       "      <td>-0.548224</td>\n",
       "      <td>-0.401787</td>\n",
       "    </tr>\n",
       "    <tr>\n",
       "      <th>3</th>\n",
       "      <td>-0.364244</td>\n",
       "      <td>-0.956351</td>\n",
       "      <td>-0.070064</td>\n",
       "      <td>-0.598334</td>\n",
       "      <td>-0.487159</td>\n",
       "      <td>0.450949</td>\n",
       "      <td>1.635685</td>\n",
       "      <td>-0.348238</td>\n",
       "      <td>-0.403912</td>\n",
       "      <td>-0.548224</td>\n",
       "      <td>-0.401787</td>\n",
       "    </tr>\n",
       "    <tr>\n",
       "      <th>4</th>\n",
       "      <td>0.385465</td>\n",
       "      <td>-0.956351</td>\n",
       "      <td>-1.106575</td>\n",
       "      <td>1.671308</td>\n",
       "      <td>2.052719</td>\n",
       "      <td>0.450949</td>\n",
       "      <td>-0.611365</td>\n",
       "      <td>-0.348238</td>\n",
       "      <td>-0.403912</td>\n",
       "      <td>-0.548224</td>\n",
       "      <td>2.488881</td>\n",
       "    </tr>\n",
       "  </tbody>\n",
       "</table>\n",
       "</div>"
      ],
      "text/plain": [
       "         0         1         2         3         4         5         6   \\\n",
       "0 -0.364244 -0.956351 -1.106575  1.671308 -0.487159  0.450949 -0.611365   \n",
       "1  1.135173  1.730513 -1.106575 -0.598334 -0.487159 -2.217544 -0.611365   \n",
       "2  0.385465 -0.956351 -0.070064 -0.598334 -0.487159  0.450949 -0.611365   \n",
       "3 -0.364244 -0.956351 -0.070064 -0.598334 -0.487159  0.450949  1.635685   \n",
       "4  0.385465 -0.956351 -1.106575  1.671308  2.052719  0.450949 -0.611365   \n",
       "\n",
       "         7         8         9         10  \n",
       "0 -0.348238 -0.403912 -0.548224  2.488881  \n",
       "1 -0.348238 -0.403912  1.824072 -0.401787  \n",
       "2 -0.348238  2.475786 -0.548224 -0.401787  \n",
       "3 -0.348238 -0.403912 -0.548224 -0.401787  \n",
       "4 -0.348238 -0.403912 -0.548224  2.488881  "
      ]
     },
     "execution_count": 40,
     "metadata": {},
     "output_type": "execute_result"
    }
   ],
   "source": [
    "# Feature Scaling \n",
    "# Only on Independent Variable to convert them into values ranging from -1 to +1\n",
    "\n",
    "from sklearn.preprocessing import StandardScaler\n",
    "from sklearn.preprocessing import MinMaxScaler\n",
    "\n",
    "sc = StandardScaler()\n",
    "X_train = sc.fit_transform(X_train)\n",
    "X_test  = sc.fit_transform(X_test)\n",
    "\n",
    "X_train = pd.DataFrame(X_train)\n",
    "X_train.head()\n"
   ]
  },
  {
   "cell_type": "markdown",
   "id": "a1efcebd-7bab-45d3-be5b-b7a1dcdf1b3e",
   "metadata": {},
   "source": [
    "# Model building"
   ]
  },
  {
   "cell_type": "code",
   "execution_count": null,
   "id": "32163adb-b1b1-4c18-9c3f-2dc6e1eae04b",
   "metadata": {},
   "outputs": [],
   "source": [
    "# Fixing a random seed ensures reproducible results\n",
    "import numpy as np\n",
    "import random\n",
    "import tensorflow\n",
    "tensorflow.random.set_seed(9)\n",
    "np.random.seed(1)\n",
    "random.seed(1)"
   ]
  },
  {
   "cell_type": "code",
   "execution_count": null,
   "id": "9c7fd406-62e0-48f4-a112-e0f11805840b",
   "metadata": {},
   "outputs": [],
   "source": [
    "import keras\n",
    "from keras.models import Sequential\n",
    "\n",
    "model = Sequential()"
   ]
  },
  {
   "cell_type": "code",
   "execution_count": null,
   "id": "f7b297c2-4f5c-4a9c-8bf2-f9219f9985a2",
   "metadata": {},
   "outputs": [],
   "source": [
    "# Let's add the first hidden layer:\n",
    "from keras.layers import Dense\n",
    "\n",
    "colum = X_train.shape[1]\n",
    "\n",
    "# Add the first hidden layer\n",
    "model.add(Dense(32, activation = 'relu', input_dim = colum))\n"
   ]
  },
  {
   "cell_type": "code",
   "execution_count": null,
   "id": "b97ca587-c89b-4020-9071-b527565e5312",
   "metadata": {},
   "outputs": [],
   "source": [
    "# Add the second hidden layer\n",
    "model.add(Dense(16, activation = 'relu'))"
   ]
  },
  {
   "cell_type": "code",
   "execution_count": null,
   "id": "d876a394-1cb9-4978-9db5-9e7cfc048d7f",
   "metadata": {},
   "outputs": [],
   "source": [
    "# Now we add the output layer as follows:\n",
    "# Add the output layer\n",
    "model.add(Dense(1, activation = 'sigmoid'))"
   ]
  },
  {
   "cell_type": "markdown",
   "id": "eed99ce0-b283-4d25-a6a2-c09ad5f2ccf7",
   "metadata": {},
   "source": [
    "# Model compilation"
   ]
  },
  {
   "cell_type": "code",
   "execution_count": null,
   "id": "65e2f908-82c2-4549-888a-ac6df0e46b15",
   "metadata": {},
   "outputs": [],
   "source": [
    "# Then, we can run the compile() function as follows:\n",
    "    # Compile the model\n",
    "model.compile(optimizer = 'adam',\n",
    "              loss = 'binary_crossentropy',\n",
    "              metrics = ['accuracy'])"
   ]
  },
  {
   "cell_type": "markdown",
   "id": "fba15499-f1b5-418c-9584-53f4c6c0fe19",
   "metadata": {},
   "source": [
    "# Model training"
   ]
  },
  {
   "cell_type": "code",
   "execution_count": null,
   "id": "3eb2224d-e10d-4b25-a58c-627744eca83a",
   "metadata": {},
   "outputs": [],
   "source": [
    "X_train.shape"
   ]
  },
  {
   "cell_type": "code",
   "execution_count": null,
   "id": "39ebfb57-47eb-4f8e-85a1-59c850d40522",
   "metadata": {},
   "outputs": [],
   "source": [
    "# To train our MLP model defined in earlier steps, let's call the fit function. Let's train our model for 200 iterations:\n",
    "# Train the model for 200 epochs\n",
    "model.fit(X_train, y_train, epochs = 10) # 200"
   ]
  },
  {
   "cell_type": "markdown",
   "id": "8982ad06-b35f-44ca-9cee-a56474c599e0",
   "metadata": {},
   "source": [
    "# Results analysis\r\n",
    "Having successfully trained our MLP, let's evaluate our model based on the testing accuracy, confusion matrix, and receiver operating characteristic (ROC) curve."
   ]
  },
  {
   "cell_type": "markdown",
   "id": "2af709eb-326e-431b-a08f-6589a2ebf5f5",
   "metadata": {},
   "source": [
    "# Testing accuracy\n",
    "We can evaluate our model on the training set and testing set using the evaluate() function:"
   ]
  },
  {
   "cell_type": "code",
   "execution_count": null,
   "id": "fe7222e2-1545-4a78-af9d-d3c154b89b9d",
   "metadata": {},
   "outputs": [],
   "source": [
    "scores = model.evaluate(X_train, y_train)\n",
    "print(\"Training Accuracy: %.2f%%\\n\" % (scores[1]*100))\n",
    "\n",
    "scores = model.evaluate(X_test, y_test)\n",
    "print(\"Testing Accuracy: %.2f%%\\n\" % (scores[1]*100))"
   ]
  },
  {
   "cell_type": "markdown",
   "id": "53bc83f1-ab82-43fa-86cc-6faa188fc2d1",
   "metadata": {},
   "source": [
    "# Confusion matrix\n",
    "\n",
    "The confusion matrix is a useful visualization tool that provides analysis on the true negative, false positive, false negative, and true positives made by our model. Beyond a simple accuracy metric, we should also look at the confusion matrix to understand the performance of the model.The definition of true negative, false positive, false negative, and true positives are as follows:\n"
   ]
  },
  {
   "cell_type": "code",
   "execution_count": null,
   "id": "b7e13d32-5eed-4aac-a020-2a65c3cbb9de",
   "metadata": {},
   "outputs": [],
   "source": [
    "from sklearn.metrics import confusion_matrix\n",
    "import seaborn as sns\n",
    "\n",
    "y_test_pred = model.predict(X_test)\n",
    "y_test_pred = y_test_pred.flatten()\n",
    "y_test_pred_new = np.where(y_test_pred.round(2) > 0.5, 1, 0)\n",
    "c_matrix = confusion_matrix(y_test, y_test_pred_new)\n",
    "c_matrix"
   ]
  },
  {
   "cell_type": "code",
   "execution_count": null,
   "id": "df3b1752-1ae2-4a99-b61a-96d1f5993a7b",
   "metadata": {},
   "outputs": [],
   "source": [
    "ax = sns.heatmap(c_matrix, annot=True,\n",
    "                 xticklabels=['No', 'Yes'],\n",
    "                 yticklabels=['No', 'Yes'],\n",
    "                 cbar=False, cmap='Blues')\n",
    "ax.set_xlabel(\"Prediction\")\n",
    "ax.set_ylabel(\"Test\")\n",
    "ax.set_title(\"Placed ?\")\n",
    "plt.show()"
   ]
  },
  {
   "cell_type": "markdown",
   "id": "c1f2fe98-67da-4b6f-81fb-e86dc7410216",
   "metadata": {},
   "source": [
    "# ROC curve\n",
    "A receiver operating characteristic curve (ROC) is a graphical plot that illustrates the diagnostic ability of a binary classifier system as its discrimination threshold is varied.\n",
    "\n",
    "For classification tasks, we should also look at the ROC curve to evaluate our model. The ROC curve is a plot with the True Positive Rate (TPR) on the y axis and the False Positive Rate (FPR) on the x axis."
   ]
  },
  {
   "cell_type": "code",
   "execution_count": null,
   "id": "2e83a7af-9059-47ff-92f9-2cdc3525132c",
   "metadata": {},
   "outputs": [],
   "source": [
    "from sklearn.metrics import roc_curve\n",
    "import matplotlib.pyplot as plt\n",
    "y_test_pred_probs = model.predict(X_test)"
   ]
  },
  {
   "cell_type": "code",
   "execution_count": null,
   "id": "426c93f8-f980-490c-84bb-5b8bf16cc360",
   "metadata": {},
   "outputs": [],
   "source": [
    "#Then, run the roc_curve function in order to get the corresponding false positive rate and true positive rate for the ROC curve:\n",
    "FPR, TPR, _ = roc_curve(y_test, y_test_pred_probs)"
   ]
  },
  {
   "cell_type": "code",
   "execution_count": null,
   "id": "f2ffdae1-d5a3-4703-a422-4a89089b0a17",
   "metadata": {},
   "outputs": [],
   "source": [
    "plt.plot(FPR, TPR)\n",
    "plt.plot([0,1],[0,1],'--', color='black') #diagonal line\n",
    "plt.title('ROC Curve')\n",
    "plt.xlabel('False Positive Rate')\n",
    "plt.ylabel('True Positive Rate')"
   ]
  },
  {
   "cell_type": "markdown",
   "id": "c8e99679-f551-4f89-a7bb-cfc141334a85",
   "metadata": {},
   "source": [
    "# Discussion\n",
    "From the preceding ROC Curve, we can see that the model performs rather well, close to the model ROC Curve shown in the preceding diagram. This shows that our model is able to differentiate samples of different classes, making good predictions."
   ]
  },
  {
   "cell_type": "markdown",
   "id": "01c01798-a1eb-4797-bfaf-3fa21a5fd5c9",
   "metadata": {},
   "source": [
    "# Decision Tree"
   ]
  },
  {
   "cell_type": "code",
   "execution_count": null,
   "id": "0f5d5014-a2e8-4f18-90fb-c4df76599ffd",
   "metadata": {},
   "outputs": [],
   "source": [
    "from sklearn.tree import DecisionTreeClassifier\n",
    "from sklearn.metrics import confusion_matrix\n",
    "\n",
    "model = DecisionTreeClassifier() \n",
    "model.fit(X_train, y_train)\n",
    "\n",
    "y_pred = model.predict(X_test)\n",
    "\n",
    "print(\"Training Accuracy :\", model.score(X_train, y_train))\n",
    "print(\"Testing Accuaracy :\", model.score(X_test, y_test))\n",
    "\n",
    "cm = confusion_matrix(y_test, y_pred)\n",
    "print(cm)"
   ]
  },
  {
   "cell_type": "markdown",
   "id": "4710ec8e-3e67-4ad5-8afe-c9c4f62c5890",
   "metadata": {},
   "source": [
    "# Random Forest"
   ]
  },
  {
   "cell_type": "code",
   "execution_count": null,
   "id": "ce7d56d7-dd68-45ca-89c4-c20c5ec5b4fd",
   "metadata": {},
   "outputs": [],
   "source": [
    "from sklearn.ensemble import RandomForestClassifier\n",
    "\n",
    "model = RandomForestClassifier()\n",
    "model.fit(X_train, y_train)\n",
    "\n",
    "y_pred = model.predict(X_test)\n",
    "\n",
    "print(\"Training Accuracy :\", model.score(X_train, y_train))\n",
    "print(\"Testing Accuracy :\", model.score(X_test, y_test))\n",
    "\n",
    "cm = confusion_matrix(y_test, y_pred)\n",
    "print(cm)"
   ]
  },
  {
   "cell_type": "markdown",
   "id": "ae341d37-7b2c-4156-9528-b91f76e155c7",
   "metadata": {},
   "source": [
    "## k fold Cross Validation"
   ]
  },
  {
   "cell_type": "code",
   "execution_count": null,
   "id": "23ae4f9b-7da8-4173-bf94-e246cb365fe5",
   "metadata": {},
   "outputs": [],
   "source": [
    "# k fold cross validatio\n",
    "\n",
    "from sklearn.model_selection import cross_val_score\n",
    "\n",
    "cvs = cross_val_score(estimator = model, X = X_train, y = y_train, cv = 10)\n",
    "print(cvs, \"\\n Mean Accuracy :\", cvs.mean(), \"\\nStandard Deviation :\", cvs.std())"
   ]
  },
  {
   "cell_type": "markdown",
   "id": "91611e1f-cd21-456a-8e70-88ce53eef200",
   "metadata": {},
   "source": [
    "# Logistic Regression"
   ]
  },
  {
   "cell_type": "code",
   "execution_count": null,
   "id": "17591556-4c4d-4ad3-8dc4-452368b16448",
   "metadata": {},
   "outputs": [],
   "source": [
    "from sklearn.linear_model import LogisticRegression\n",
    "\n",
    "model = LogisticRegression()\n",
    "model.fit(X_train, y_train)\n",
    "\n",
    "y_pred = model.predict(X_test)\n",
    "\n",
    "print(\"Training Accuracy :\", model.score(X_train, y_train))\n",
    "print(\"Testing Accuracy :\", model.score(X_test, y_test))\n",
    "\n",
    "cm = confusion_matrix(y_test, y_pred)\n",
    "print(cm)"
   ]
  },
  {
   "cell_type": "markdown",
   "id": "116e44c0-dbb1-4360-a75d-48e403377e1f",
   "metadata": {},
   "source": [
    "# Support Vector Machine"
   ]
  },
  {
   "cell_type": "code",
   "execution_count": null,
   "id": "8c50782d-ad8d-4e3c-b99d-5a2bd390a7b0",
   "metadata": {},
   "outputs": [],
   "source": [
    "from sklearn.svm import SVC\n",
    "\n",
    "model = SVC()\n",
    "model.fit(X_train, y_train)\n",
    "\n",
    "y_pred = model.predict(X_test)\n",
    "\n",
    "print(\"Training Accuracy :\", model.score(X_train, y_train))\n",
    "print(\"Testing Accuracy :\", model.score(X_test, y_test))\n",
    "\n",
    "cm = confusion_matrix(y_test, y_pred)\n",
    "print(cm)"
   ]
  },
  {
   "cell_type": "markdown",
   "id": "7234c8cf-bd6a-426c-a59d-a7bf96ed54c9",
   "metadata": {},
   "source": [
    "## k fold Cross Validation"
   ]
  },
  {
   "cell_type": "code",
   "execution_count": null,
   "id": "213b127c-c639-4e88-bc2a-54c6aa575080",
   "metadata": {},
   "outputs": [],
   "source": [
    "# k fold cross validatio\n",
    "\n",
    "from sklearn.model_selection import cross_val_score\n",
    "\n",
    "cvs = cross_val_score(estimator = model, X = X_train, y = y_train, cv = 10)\n",
    "print(cvs, \"\\n Mean Accuracy :\", cvs.mean(), \"\\n Standard Deviation :\", cvs.std())"
   ]
  },
  {
   "cell_type": "markdown",
   "id": "88cce21a-8e54-4e24-8283-4761fd41ffa7",
   "metadata": {},
   "source": [
    "# Reference:\n",
    "Neural Network Projects with Python by James Loy Published by Packt Publishing, 2019\n",
    "https://www.analyticsvidhya.com/"
   ]
  }
 ],
 "metadata": {
  "kernelspec": {
   "display_name": "Python 3 (ipykernel)",
   "language": "python",
   "name": "python3"
  },
  "language_info": {
   "codemirror_mode": {
    "name": "ipython",
    "version": 3
   },
   "file_extension": ".py",
   "mimetype": "text/x-python",
   "name": "python",
   "nbconvert_exporter": "python",
   "pygments_lexer": "ipython3",
   "version": "3.12.1"
  }
 },
 "nbformat": 4,
 "nbformat_minor": 5
}
